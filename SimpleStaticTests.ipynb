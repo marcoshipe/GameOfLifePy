{
 "cells": [
  {
   "cell_type": "code",
   "execution_count": null,
   "metadata": {},
   "outputs": [],
   "source": [
    "import time\n",
    "import numpy as np\n",
    "from game_drawing import GameOfLifePy"
   ]
  },
  {
   "cell_type": "markdown",
   "metadata": {},
   "source": [
    "# Test a big random board:"
   ]
  },
  {
   "cell_type": "code",
   "execution_count": null,
   "metadata": {},
   "outputs": [],
   "source": [
    "stage = np.random.choice(a=[False, True], size=(500, 500))\n",
    "game = GameOfLifePy(stage, cell_size=4, border_width=0.6)\n",
    "game.draw_stage()\n",
    "time.sleep(1)\n",
    "game.next_stage()\n",
    "game.draw_stage()"
   ]
  },
  {
   "cell_type": "markdown",
   "metadata": {},
   "source": [
    "# Test a nice pattern that i like:"
   ]
  },
  {
   "cell_type": "code",
   "execution_count": null,
   "metadata": {},
   "outputs": [],
   "source": [
    "stage = np.full((21, 21), False)\n",
    "stage[9][8] = True\n",
    "stage[10][9] = True\n",
    "stage[11][9] = True\n",
    "stage[10][10] = True\n",
    "stage[11][10] = True\n",
    "stage[10][11] = True\n",
    "stage[11][11] = True\n",
    "stage[9][12] = True\n",
    "game = GameOfLifePy(stage, cell_size=10)\n",
    "game.draw_stage()\n",
    "for _ in range(50):\n",
    "    time.sleep(0.3)\n",
    "    game.next_stage()\n",
    "    game.draw_stage()"
   ]
  },
  {
   "cell_type": "markdown",
   "metadata": {},
   "source": [
    "# Test a nice pattern that i like (modification 1):"
   ]
  },
  {
   "cell_type": "code",
   "execution_count": null,
   "metadata": {},
   "outputs": [],
   "source": [
    "stage = np.full((21, 21), False)\n",
    "stage[9][8] = True\n",
    "stage[10][9] = True\n",
    "stage[11][9] = True\n",
    "stage[10][10] = True\n",
    "stage[11][10] = True\n",
    "stage[10][11] = True\n",
    "stage[11][11] = True\n",
    "stage[9][12] = True\n",
    "\n",
    "stage[0][10] = True\n",
    "stage[1][10] = True\n",
    "stage[2][10] = True\n",
    "stage[18][10] = True\n",
    "stage[19][10] = True\n",
    "stage[20][10] = True\n",
    "stage[10][0] = True\n",
    "stage[10][1] = True\n",
    "stage[10][2] = True\n",
    "stage[10][18] = True\n",
    "stage[10][19] = True\n",
    "stage[10][20] = True\n",
    "game = GameOfLifePy(stage, cell_size=10)\n",
    "game.draw_stage()\n",
    "for _ in range(50):\n",
    "    time.sleep(0.3)\n",
    "    game.next_stage()\n",
    "    game.draw_stage()"
   ]
  },
  {
   "cell_type": "markdown",
   "metadata": {},
   "source": [
    "# Test a nice pattern that i like (modification 2):"
   ]
  },
  {
   "cell_type": "code",
   "execution_count": null,
   "metadata": {},
   "outputs": [],
   "source": [
    "stage = np.full((21, 21), False)\n",
    "stage[9][8] = True\n",
    "stage[10][9] = True\n",
    "stage[11][9] = True\n",
    "stage[10][10] = True\n",
    "stage[11][10] = True\n",
    "stage[10][11] = True\n",
    "stage[11][11] = True\n",
    "stage[9][12] = True\n",
    "\n",
    "stage[1][9] = True\n",
    "stage[1][10] = True\n",
    "stage[1][11] = True\n",
    "stage[19][9] = True\n",
    "stage[19][10] = True\n",
    "stage[19][11] = True\n",
    "stage[10][0] = True\n",
    "stage[10][1] = True\n",
    "stage[10][2] = True\n",
    "stage[10][18] = True\n",
    "stage[10][19] = True\n",
    "stage[10][20] = True\n",
    "game = GameOfLifePy(stage, cell_size=10)\n",
    "game.draw_stage()\n",
    "for _ in range(50):\n",
    "    time.sleep(0.3)\n",
    "    game.next_stage()\n",
    "    game.draw_stage()"
   ]
  },
  {
   "cell_type": "markdown",
   "metadata": {},
   "source": [
    "# Test a nice pattern that i like (modification 3):"
   ]
  },
  {
   "cell_type": "code",
   "execution_count": null,
   "metadata": {},
   "outputs": [],
   "source": [
    "stage = np.full((21, 21), False)\n",
    "stage[9][8] = True\n",
    "stage[10][9] = True\n",
    "stage[11][9] = True\n",
    "stage[10][10] = True\n",
    "stage[11][10] = True\n",
    "stage[10][11] = True\n",
    "stage[11][11] = True\n",
    "stage[9][12] = True\n",
    "\n",
    "stage[1][9] = True\n",
    "stage[1][10] = True\n",
    "stage[1][11] = True\n",
    "stage[19][9] = True\n",
    "stage[19][10] = True\n",
    "stage[19][11] = True\n",
    "stage[9][1] = True\n",
    "stage[10][1] = True\n",
    "stage[11][1] = True\n",
    "stage[9][19] = True\n",
    "stage[10][19] = True\n",
    "stage[11][19] = True\n",
    "game = GameOfLifePy(stage, cell_size=10)\n",
    "game.draw_stage()\n",
    "for _ in range(50):\n",
    "    time.sleep(0.5)\n",
    "    game.next_stage()\n",
    "    game.draw_stage()"
   ]
  }
 ],
 "metadata": {
  "kernelspec": {
   "display_name": "Python 3",
   "language": "python",
   "name": "python3"
  },
  "language_info": {
   "codemirror_mode": {
    "name": "ipython",
    "version": 3
   },
   "file_extension": ".py",
   "mimetype": "text/x-python",
   "name": "python",
   "nbconvert_exporter": "python",
   "pygments_lexer": "ipython3",
   "version": "3.8.2"
  }
 },
 "nbformat": 4,
 "nbformat_minor": 4
}
